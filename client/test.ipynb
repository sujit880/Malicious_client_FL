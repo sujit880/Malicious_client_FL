{
 "cells": [
  {
   "cell_type": "code",
   "execution_count": 9,
   "metadata": {},
   "outputs": [
    {
     "data": {
      "text/plain": [
       "0.6927511236630035"
      ]
     },
     "execution_count": 9,
     "metadata": {},
     "output_type": "execute_result"
    }
   ],
   "source": [
    "import numpy as np\n",
    "random = np.random.default_rng()\n",
    "a=random.random(size=1)[0]\n",
    "a"
   ]
  },
  {
   "cell_type": "code",
   "execution_count": 10,
   "metadata": {},
   "outputs": [],
   "source": [
    "import numpy as np\n",
    "import matplotlib.pyplot as plt\n",
    "import torch\n",
    "from queue import Queue\n",
    "import gym\n",
    "import math\n",
    "from copy import deepcopy\n",
    "\n",
    "\n",
    "import relearn.pies.dqn as DQN\n",
    "from relearn.explore import EXP, MEM\n",
    "from relearn.pies.utils import compare_weights\n",
    "from relearn.pies.utils import RMSprop_update\n",
    "\n",
    "random = np.random.default_rng()"
   ]
  },
  {
   "cell_type": "code",
   "execution_count": 11,
   "metadata": {},
   "outputs": [],
   "source": [
    "class INFRA:\n",
    "    \"\"\" Dummy empty class\"\"\"\n",
    "\n",
    "    def __init__(self):\n",
    "        pass\n",
    "\n",
    "EXP_PARAMS = INFRA()\n",
    "EXP_PARAMS.MEM_CAP = 50000\n",
    "EXP_PARAMS.EPST = (0.95, 0.05, 0.95)  # (start, min, max)\n",
    "EXP_PARAMS.DECAY_MUL = 0.99999\n",
    "EXP_PARAMS.DECAY_ADD = 0\n",
    "\n",
    "\n",
    "PIE_PARAMS = INFRA()\n",
    "PIE_PARAMS.LAYERS = [6, 6, 6]\n",
    "PIE_PARAMS.OPTIM = torch.optim.RMSprop  # SGD\n",
    "PIE_PARAMS.LOSS = torch.nn.MSELoss\n",
    "PIE_PARAMS.LR = 0.001\n",
    "PIE_PARAMS.DISCOUNT = 0.999999\n",
    "PIE_PARAMS.DOUBLE = False\n",
    "PIE_PARAMS.TUF = 4\n",
    "PIE_PARAMS.DEV = 'cpu'\n",
    "\n",
    "TRAIN_PARAMS = INFRA()\n",
    "TRAIN_PARAMS.EPOCHS = 50000\n",
    "TRAIN_PARAMS.MOVES = 10\n",
    "TRAIN_PARAMS.EPISODIC = False\n",
    "TRAIN_PARAMS.MIN_MEM = 30\n",
    "TRAIN_PARAMS.LEARN_STEPS = 1\n",
    "TRAIN_PARAMS.BATCH_SIZE = 50\n",
    "TRAIN_PARAMS.TEST_FREQ = 10\n",
    "\n",
    "TEST_PARAMS = INFRA()\n",
    "TEST_PARAMS.CERF = 100\n",
    "TEST_PARAMS.RERF = 100\n",
    "\n",
    "\n",
    "P = print\n"
   ]
  },
  {
   "cell_type": "code",
   "execution_count": 12,
   "metadata": {},
   "outputs": [],
   "source": [
    "ENV_NAME = 'CartPole-v0'\n",
    "# Train ENV\n",
    "env = gym.make(ENV_NAME)\n",
    "\n",
    "# Test ENV\n",
    "venv = gym.make(ENV_NAME)\n",
    "\n",
    "# Policy and Exploration\n",
    "exp = EXP(env=env, cap=EXP_PARAMS.MEM_CAP, epsilonT=EXP_PARAMS.EPST)\n",
    "\n",
    "txp = EXP(env=venv, cap=math.inf, epsilonT=(0, 0, 0))\n",
    "eps = []\n",
    "\n",
    "def decayF(epsilon, moves, isdone):\n",
    "    global eps\n",
    "    new_epsilon = epsilon*EXP_PARAMS.DECAY_MUL + \\\n",
    "        EXP_PARAMS.DECAY_ADD  # random.random()\n",
    "    eps.append(new_epsilon)\n",
    "    return new_epsilon\n",
    "\n",
    "\n",
    "pie = DQN.PIE(\n",
    "    env.observation_space.shape[0],\n",
    "    LL=PIE_PARAMS.LAYERS,\n",
    "    action_dim=env.action_space.n,\n",
    "    device=PIE_PARAMS.DEV,\n",
    "    opt=PIE_PARAMS.OPTIM,\n",
    "    cost=PIE_PARAMS.LOSS,\n",
    "    lr=PIE_PARAMS.LR,\n",
    "    dis=PIE_PARAMS.DISCOUNT,\n",
    "    mapper=lambda x: x,\n",
    "    double=PIE_PARAMS.DOUBLE,\n",
    "    tuf=PIE_PARAMS.TUF,\n",
    "    seed=None)\n",
    "\n",
    "target = DQN.PIE(\n",
    "    env.observation_space.shape[0],\n",
    "    LL=PIE_PARAMS.LAYERS,\n",
    "    action_dim=env.action_space.n,\n",
    "    device=PIE_PARAMS.DEV,\n",
    "    opt=PIE_PARAMS.OPTIM,\n",
    "    cost=PIE_PARAMS.LOSS,\n",
    "    lr=PIE_PARAMS.LR,\n",
    "    dis=PIE_PARAMS.DISCOUNT,\n",
    "    mapper=lambda x: x,\n",
    "    double=PIE_PARAMS.DOUBLE,\n",
    "    tuf=PIE_PARAMS.TUF,\n",
    "    seed=None)\n"
   ]
  },
  {
   "cell_type": "code",
   "execution_count": 18,
   "metadata": {},
   "outputs": [],
   "source": [
    "params= pie.Q.state_dict()"
   ]
  },
  {
   "cell_type": "code",
   "execution_count": 19,
   "metadata": {},
   "outputs": [
    {
     "name": "stdout",
     "output_type": "stream",
     "text": [
      "OrderedDict([('SEQL.0.weight', tensor([[-0.2866,  0.3710,  0.3079,  0.1787],\n",
      "        [ 0.0843,  0.3274,  0.4275,  0.2642],\n",
      "        [ 0.2556,  0.0432,  0.1439, -0.1493],\n",
      "        [-0.3140, -0.2874, -0.2890, -0.1802],\n",
      "        [-0.1336,  0.1896, -0.4590, -0.2334],\n",
      "        [ 0.0506,  0.1840, -0.1863,  0.4687]])), ('SEQL.0.bias', tensor([-0.0398,  0.3610, -0.4434, -0.1778,  0.0875,  0.4760])), ('SEQL.2.weight', tensor([[ 0.0578, -0.2902,  0.1470, -0.3694,  0.0189,  0.1525],\n",
      "        [-0.3207, -0.1140,  0.0210, -0.3528,  0.1873,  0.0803],\n",
      "        [ 0.1039,  0.2874, -0.1917, -0.3206,  0.0997, -0.2694],\n",
      "        [-0.0655, -0.3877,  0.1973, -0.1922, -0.0627,  0.3935],\n",
      "        [ 0.1191,  0.2580, -0.0547, -0.0931, -0.4057,  0.0754],\n",
      "        [ 0.2676, -0.0806,  0.1748, -0.0999, -0.0420, -0.3469]])), ('SEQL.2.bias', tensor([ 0.3829, -0.3070,  0.0887, -0.1854,  0.3643,  0.2443])), ('SEQL.4.weight', tensor([[-0.2784, -0.1385, -0.0169,  0.1968,  0.2554, -0.3388],\n",
      "        [-0.0066,  0.1968, -0.3824, -0.2404,  0.1682, -0.0570],\n",
      "        [ 0.2127,  0.1469,  0.2894,  0.3513,  0.1778,  0.3192],\n",
      "        [ 0.0661,  0.1748,  0.0612, -0.0406, -0.1514, -0.0740],\n",
      "        [-0.2374, -0.1062, -0.2146, -0.0569,  0.2793,  0.3298],\n",
      "        [ 0.2159, -0.1267, -0.3448,  0.2233, -0.3294, -0.0425]])), ('SEQL.4.bias', tensor([-0.0409, -0.0197,  0.2844,  0.1113, -0.3353,  0.1481])), ('SEQL.6.weight', tensor([[-0.1651,  0.0543, -0.1862,  0.0546, -0.0066,  0.0776],\n",
      "        [-0.3575, -0.0795, -0.3818, -0.3350, -0.0293, -0.1662]])), ('SEQL.6.bias', tensor([ 0.1668, -0.2751]))])\n"
     ]
    }
   ],
   "source": [
    "print(params)"
   ]
  },
  {
   "cell_type": "code",
   "execution_count": 21,
   "metadata": {},
   "outputs": [
    {
     "name": "stdout",
     "output_type": "stream",
     "text": [
      "torch.Size([6, 4])\n",
      "tensor([[-0.2866,  0.3710,  0.3079,  0.1787],\n",
      "        [ 0.0843,  0.3274,  0.4275,  0.2642],\n",
      "        [ 0.2556,  0.0432,  0.1439, -0.1493],\n",
      "        [-0.3140, -0.2874, -0.2890, -0.1802],\n",
      "        [-0.1336,  0.1896, -0.4590, -0.2334],\n",
      "        [ 0.0506,  0.1840, -0.1863,  0.4687]]) R tensor([[0.9410, 0.3609, 0.2451, 0.6570],\n",
      "        [0.2134, 0.8430, 0.5392, 0.1140],\n",
      "        [0.0755, 0.1691, 0.2210, 0.6337],\n",
      "        [0.8642, 0.5881, 0.2194, 0.8937],\n",
      "        [0.6084, 0.4247, 0.6506, 0.9542],\n",
      "        [0.1145, 0.0390, 0.0192, 0.0732]])\n",
      "torch.Size([6])\n",
      "tensor([-0.0398,  0.3610, -0.4434, -0.1778,  0.0875,  0.4760]) R tensor([0.6655, 0.3111, 0.5242, 0.4190, 0.1516, 0.9249])\n",
      "torch.Size([6, 6])\n",
      "tensor([[ 0.0578, -0.2902,  0.1470, -0.3694,  0.0189,  0.1525],\n",
      "        [-0.3207, -0.1140,  0.0210, -0.3528,  0.1873,  0.0803],\n",
      "        [ 0.1039,  0.2874, -0.1917, -0.3206,  0.0997, -0.2694],\n",
      "        [-0.0655, -0.3877,  0.1973, -0.1922, -0.0627,  0.3935],\n",
      "        [ 0.1191,  0.2580, -0.0547, -0.0931, -0.4057,  0.0754],\n",
      "        [ 0.2676, -0.0806,  0.1748, -0.0999, -0.0420, -0.3469]]) R tensor([[0.6810, 0.0806, 0.4163, 0.7663, 0.0622, 0.4292],\n",
      "        [0.9792, 0.8026, 0.7229, 0.9661, 0.3460, 0.1000],\n",
      "        [0.9057, 0.7265, 0.8847, 0.4246, 0.3717, 0.6870],\n",
      "        [0.5198, 0.2431, 0.8057, 0.8297, 0.9188, 0.9176],\n",
      "        [0.3433, 0.4288, 0.5212, 0.8456, 0.6441, 0.1210],\n",
      "        [0.6804, 0.1065, 0.1271, 0.0025, 0.1392, 0.2208]])\n",
      "torch.Size([6])\n",
      "tensor([ 0.3829, -0.3070,  0.0887, -0.1854,  0.3643,  0.2443]) R tensor([0.0580, 0.2787, 0.7742, 0.4443, 0.3936, 0.4817])\n",
      "torch.Size([6, 6])\n",
      "tensor([[-0.2784, -0.1385, -0.0169,  0.1968,  0.2554, -0.3388],\n",
      "        [-0.0066,  0.1968, -0.3824, -0.2404,  0.1682, -0.0570],\n",
      "        [ 0.2127,  0.1469,  0.2894,  0.3513,  0.1778,  0.3192],\n",
      "        [ 0.0661,  0.1748,  0.0612, -0.0406, -0.1514, -0.0740],\n",
      "        [-0.2374, -0.1062, -0.2146, -0.0569,  0.2793,  0.3298],\n",
      "        [ 0.2159, -0.1267, -0.3448,  0.2233, -0.3294, -0.0425]]) R tensor([[8.7707e-01, 5.4446e-01, 9.3635e-01, 8.0906e-01, 9.4433e-01, 8.2641e-01],\n",
      "        [3.5321e-01, 9.5345e-01, 1.9398e-01, 4.9654e-01, 3.9349e-01, 2.8989e-01],\n",
      "        [2.2720e-01, 5.4638e-01, 5.9556e-02, 4.9520e-04, 8.3622e-02, 2.1531e-02],\n",
      "        [3.8862e-01, 7.4653e-01, 4.6704e-01, 9.7376e-01, 5.6878e-01, 7.1747e-01],\n",
      "        [3.3751e-01, 7.9315e-01, 8.5888e-01, 8.5703e-01, 4.0830e-01, 4.7044e-01],\n",
      "        [1.7547e-01, 5.8557e-01, 2.1362e-01, 2.0755e-01, 8.1983e-01, 6.4412e-01]])\n",
      "torch.Size([6])\n",
      "tensor([-0.0409, -0.0197,  0.2844,  0.1113, -0.3353,  0.1481]) R tensor([0.6439, 0.7131, 0.8460, 0.6954, 0.0826, 0.2215])\n",
      "torch.Size([2, 6])\n",
      "tensor([[-0.1651,  0.0543, -0.1862,  0.0546, -0.0066,  0.0776],\n",
      "        [-0.3575, -0.0795, -0.3818, -0.3350, -0.0293, -0.1662]]) R tensor([[0.0764, 0.8967, 0.0472, 0.3546, 0.1006, 0.7323],\n",
      "        [0.9118, 0.3283, 0.5379, 0.0888, 0.3091, 0.2727]])\n",
      "torch.Size([2])\n",
      "tensor([ 0.1668, -0.2751]) R tensor([0.3391, 0.9754])\n"
     ]
    }
   ],
   "source": [
    "params_ = {}\n",
    "for key in params.keys():\n",
    "    params_[key] = params[key].tolist()\n",
    "    print(params[key].shape)\n",
    "    print(params[key], \"R: \", torch.rand(params[key].shape))"
   ]
  },
  {
   "cell_type": "code",
   "execution_count": null,
   "metadata": {},
   "outputs": [],
   "source": []
  }
 ],
 "metadata": {
  "interpreter": {
   "hash": "6331bd7329a04ab9e6cffdec597a9013ea27f76417ade48fe20144e6c88f4178"
  },
  "kernelspec": {
   "display_name": "Python 3.9.7 ('base')",
   "language": "python",
   "name": "python3"
  },
  "language_info": {
   "codemirror_mode": {
    "name": "ipython",
    "version": 3
   },
   "file_extension": ".py",
   "mimetype": "text/x-python",
   "name": "python",
   "nbconvert_exporter": "python",
   "pygments_lexer": "ipython3",
   "version": "3.9.7"
  },
  "orig_nbformat": 4
 },
 "nbformat": 4,
 "nbformat_minor": 2
}
